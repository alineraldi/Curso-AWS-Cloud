{
  "nbformat": 4,
  "nbformat_minor": 0,
  "metadata": {
    "colab": {
      "provenance": []
    },
    "kernelspec": {
      "name": "python3",
      "display_name": "Python 3"
    },
    "language_info": {
      "name": "python"
    }
  },
  "cells": [
    {
      "cell_type": "markdown",
      "source": [
        "**Precisamos imprimir um número para cada andar de um hotel de 20 andares. Porém, o dono do hotel é supersticioso e optou por não ter um 13ro andar.**\n",
        "\n",
        "*Escreva um código que imprima todos os números exceto o número 13.*\n"
      ],
      "metadata": {
        "id": "4R02_asAu_Cx"
      }
    },
    {
      "cell_type": "code",
      "source": [
        "print(\"Olá! Segue abaixo a lista de todos os andares do Hotel Hipotético. \\n Sinta-se à vontade para entrar em contato e fazer uma reserva.\")\n",
        "for andar in range(1, 21):\n",
        "  if andar != 13:\n",
        "    print(andar, \"º andar\")"
      ],
      "metadata": {
        "id": "k5OpQ3hpvE30"
      },
      "execution_count": null,
      "outputs": []
    },
    {
      "cell_type": "markdown",
      "source": [
        "**Escreva mais um código que resolva o mesmo problema, mas dessa vez usando o laço de repetição 'while'.**\n",
        "\n",
        "*Como desafio, imprima eles em ordem decrescente (20, 19, 18...)*"
      ],
      "metadata": {
        "id": "3zOy7oMTvQs7"
      }
    },
    {
      "cell_type": "code",
      "source": [
        "print(\"Também temos a opção de visualização decrescente dos nossos andares aqui no Hotel. \\n Olha só que interessante:\")\n",
        "andar = 20\n",
        "while (andar > 13):\n",
        "  print(andar, \"º andar\")\n",
        "  andar = andar - 1\n",
        "andar = 12\n",
        "while (andar > 0):\n",
        "  print(andar, \"º andar\")\n",
        "  andar = andar - 1\n"
      ],
      "metadata": {
        "id": "5pdVzoqwyIwM"
      },
      "execution_count": null,
      "outputs": []
    }
  ]
}