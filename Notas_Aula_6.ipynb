{
  "nbformat": 4,
  "nbformat_minor": 0,
  "metadata": {
    "colab": {
      "provenance": []
    },
    "kernelspec": {
      "name": "python3",
      "display_name": "Python 3"
    },
    "language_info": {
      "name": "python"
    }
  },
  "cells": [
    {
      "cell_type": "markdown",
      "source": [
        "Replicar função que pede ao usuário um número menor ou igual a 100, exibe mensagens de erro respectivas caso o número não for menor ou igual a 100, ou caso o usuário digitar qualquer caractere não numérico.\n",
        "\n",
        "Desafio 1: A função precisa verificar que o número seja menor do que 100 e maior do que 0\n",
        "\n",
        "Desafio 2: A função precisa verificar que o número esteja entre 0 e 100, e seja um número par"
      ],
      "metadata": {
        "id": "GvvNUEEag7Gr"
      }
    },
    {
      "cell_type": "code",
      "source": [
        "def FraseNumero():\n",
        "  numero_usuario=False\n",
        "\n",
        "  while numero_usuario == False:\n",
        "    print(\"Por favor, digite um número de 0 a 100: \\n\")\n",
        "    try:\n",
        "      numUsuario=int(input())\n",
        "      if (numUsuario <= 100) and (numUsuario >= 0):\n",
        "        print(\"Correto. Você seguiu às instruções solicitadas e digitou o número: \" + str(numUsuario))\n",
        "        if (numUsuario %2 == 0):\n",
        "          print(\"O número que você digitou é par.\")\n",
        "        else:\n",
        "          print(\"O número que você digitou é ímpar.\")\n",
        "        numero_Usuario = True\n",
        "        break\n",
        "      else:\n",
        "        print(\"Você não digitou um número no intervalo solicitado. Tente novamente\")\n",
        "    except:\n",
        "      print(\"Este não é um número válido.\")\n",
        "\n",
        "FraseNumero()"
      ],
      "metadata": {
        "colab": {
          "base_uri": "https://localhost:8080/"
        },
        "id": "D7I-ZVSRhAuy",
        "outputId": "cfea3571-7c32-4c00-bfb8-248dcac19ea2"
      },
      "execution_count": 2,
      "outputs": [
        {
          "output_type": "stream",
          "name": "stdout",
          "text": [
            "Por favor, digite um número de 0 a 100: \n",
            "\n",
            "25\n",
            "Correto. Você seguiu às instruções solicitadas e digitou o número: 25\n",
            "O número que você digitou é ímpar.\n"
          ]
        }
      ]
    }
  ]
}