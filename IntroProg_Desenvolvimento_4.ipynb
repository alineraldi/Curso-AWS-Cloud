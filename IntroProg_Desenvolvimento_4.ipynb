{
  "nbformat": 4,
  "nbformat_minor": 0,
  "metadata": {
    "colab": {
      "provenance": []
    },
    "kernelspec": {
      "name": "python3",
      "display_name": "Python 3"
    },
    "language_info": {
      "name": "python"
    }
  },
  "cells": [
    {
      "cell_type": "code",
      "execution_count": 3,
      "metadata": {
        "colab": {
          "base_uri": "https://localhost:8080/"
        },
        "id": "yx_Y_Ez_M_z8",
        "outputId": "ac280fb5-4c31-4176-d69e-a30ce4a21b8e"
      },
      "outputs": [
        {
          "output_type": "stream",
          "name": "stdout",
          "text": [
            "Por favor, digite um número: 2\n",
            "Agora, mais um: 24\n",
            "Só mais um: 42\n",
            "-18\n"
          ]
        }
      ],
      "source": [
        "# Faça uma função calculadora de dois números com três parâmetros:\n",
        "# os dois primeiros serão os números da operação e o terceiro será a entrada que definirá a operação a ser executada. Considera a seguinte definição:\n",
        "# 1. Soma\n",
        "# 2. Subtração\n",
        "# 3. Multiplicação\n",
        "# 4. Divisão\n",
        "# Caso seja inserido um número de operação que não exista, o resultado deverá ser 0.\n",
        "operacao = int(input(\"Por favor, digite um número: \"))\n",
        "num1 = int(input(\"Agora, mais um: \"))\n",
        "num2 = int(input(\"Só mais um: \"))\n",
        "def calculadora2Num(num1,num2,operacao):\n",
        "  if(operacao == 1): return (num1 + num2)\n",
        "  elif(operacao == 2): return (num1 - num2)\n",
        "  elif(operacao == 3): return (num1 * num2)\n",
        "  elif(operacao == 4): return (num1 / num2)\n",
        "  else: return \"0\"\n",
        "r = calculadora2Num(num1,num2,operacao)\n",
        "print(r)"
      ]
    }
  ]
}