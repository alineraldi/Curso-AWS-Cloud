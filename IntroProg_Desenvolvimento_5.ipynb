{
  "nbformat": 4,
  "nbformat_minor": 0,
  "metadata": {
    "colab": {
      "provenance": []
    },
    "kernelspec": {
      "name": "python3",
      "display_name": "Python 3"
    },
    "language_info": {
      "name": "python"
    }
  },
  "cells": [
    {
      "cell_type": "code",
      "execution_count": null,
      "metadata": {
        "colab": {
          "base_uri": "https://localhost:8080/"
        },
        "id": "tYZ4kR7sgZ2-",
        "outputId": "8b9f93ca-a6af-4693-f6f9-9dc4fd9f2136"
      },
      "outputs": [
        {
          "output_type": "stream",
          "name": "stdout",
          "text": [
            "Seja bem vindo à calculadora.\n"
          ]
        }
      ],
      "source": [
        "#Faça uma função calculadora que os números e as operações serão feitas pelo usuário. O código deve ficar rodando infinitamente até que o usuário escolha a opção de sair.\n",
        "#No início, o programa mostrará a seguinte lista de operações:\n",
        "#1: Soma\n",
        "#2: Subtração\n",
        "#3: Multiplicação\n",
        "#4: Divisão\n",
        "#0: Sair\n",
        "#Digite o número para a operação correspondente e caso o usuário introduza qualquer outro, o sistema deve mostrar a mensagem “Essa opção não existe” e voltar ao menu de opções.\n",
        "#Após a seleção, o sistema deve pedir para o usuário inserir o primeiro e segundo valor, um de cada.\n",
        "#Depois precisa executar a operação e mostrar o resultado na tela. Quando o usuário escolher a opção “Sair”, o sistema irá parar.\n",
        "#É necessário que o sistema mostre as opções sempre que finalizar uma operação e mostrar o resultado.\n",
        "def start():\n",
        "  print(\":)\")\n",
        "def calculadora(num1,num2,operacao):\n",
        "  if (operacao == 1): return (num1 + num2)\n",
        "  elif (operacao == 2): return (num1 - num2)\n",
        "  elif (operacao == 3): return (num1 * num2)\n",
        "  elif (operacao == 4): return (num1 / num2)\n",
        "print(\"Seja bem vindo à calculadora.\")\n",
        "operacao=int(input(\"Digite uma das opções a seguir e selecione a operação aritmética: \\n 1: Soma, 2: Subtração, 3: Multiplicação; 4: Divisão. \\n Digite 0 para sair.\"))\n",
        "while operacao != 0:\n",
        "  if operacao > 4:\n",
        "    print(\"Opção inválida! Tente novamente.\")\n",
        "    break\n",
        "  elif operacao == 0:\n",
        "    break\n",
        "  else:\n",
        "    num1=int(input(\"Muito bem. Agora, escreva um número para calcular: \"))\n",
        "    num2=int(input(\"E, por último, mais um número:\"))\n",
        "    r = calculadora(num1,num2,operacao)\n",
        "    print(r)\n",
        "start()\n",
        "#Tive muita dificuldade com fazer o usuário voltar pra escolher a opção aritmética de novo. Alguém me ajuda?"
      ]
    }
  ]
}