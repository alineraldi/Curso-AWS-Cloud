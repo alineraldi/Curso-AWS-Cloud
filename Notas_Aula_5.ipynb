{
  "nbformat": 4,
  "nbformat_minor": 0,
  "metadata": {
    "colab": {
      "provenance": []
    },
    "kernelspec": {
      "name": "python3",
      "display_name": "Python 3"
    },
    "language_info": {
      "name": "python"
    }
  },
  "cells": [
    {
      "cell_type": "markdown",
      "source": [
        "1. Regar todas as plantas."
      ],
      "metadata": {
        "id": "2bWdpeyC_mx3"
      }
    },
    {
      "cell_type": "code",
      "execution_count": null,
      "metadata": {
        "colab": {
          "base_uri": "https://localhost:8080/"
        },
        "id": "st3QLfnj78t7",
        "outputId": "1c45a145-a961-4ae3-fbfd-7833e176fb5b"
      },
      "outputs": [
        {
          "output_type": "stream",
          "name": "stdout",
          "text": [
            "Regue a planta 0\n",
            "Regue a planta 1\n",
            "Regue a planta 2\n",
            "Regue a planta 3\n",
            "Regue a planta 4\n",
            "Regue a planta 5\n"
          ]
        }
      ],
      "source": [
        "for contador in range(6): #o bloco de código será repetido 6 vezes\n",
        "  print(\"Regue a planta\", contador)"
      ]
    },
    {
      "cell_type": "markdown",
      "source": [
        "1.2 Refazer com uma estrutura de teste no início."
      ],
      "metadata": {
        "id": "rMkW0t8oCUGg"
      }
    },
    {
      "cell_type": "code",
      "source": [
        "contador = 0\n",
        "while( contador <= 5 ): # condição de parada\n",
        "  print(\"Regue a planta\", contador)\n",
        "  contador += 1 #incremento"
      ],
      "metadata": {
        "colab": {
          "base_uri": "https://localhost:8080/"
        },
        "id": "h7-dU3qkCYUS",
        "outputId": "9d992e93-9654-4bcc-cb8c-eb2cdaf9294c"
      },
      "execution_count": null,
      "outputs": [
        {
          "output_type": "stream",
          "name": "stdout",
          "text": [
            "Regue a planta 0\n",
            "Regue a planta 1\n",
            "Regue a planta 2\n",
            "Regue a planta 3\n",
            "Regue a planta 4\n",
            "Regue a planta 5\n"
          ]
        }
      ]
    },
    {
      "cell_type": "markdown",
      "source": [
        "2.Pedir pela rega apenas de tomates (0, 2, 4). Escrever 2 algoritmos."
      ],
      "metadata": {
        "id": "DGZoroq2He4_"
      }
    },
    {
      "cell_type": "code",
      "source": [
        "#Algoritmo1\n",
        "for plantas in range (0, 6, 2):\n",
        "  print(\"Regue a planta\", plantas, \"\\n\")\n",
        "#Algoritmo2\n",
        "plantas = 0\n",
        "while (plantas <= 4):\n",
        "  print(\"Regue a planta\", plantas, \"\\n\")\n",
        "  plantas += 2"
      ],
      "metadata": {
        "colab": {
          "base_uri": "https://localhost:8080/"
        },
        "id": "GKfrBKXvHuGx",
        "outputId": "049bef66-8725-456a-b8b3-b1ea7d4c07ad"
      },
      "execution_count": null,
      "outputs": [
        {
          "output_type": "stream",
          "name": "stdout",
          "text": [
            "Regue a planta 0 \n",
            "\n",
            "Regue a planta 2 \n",
            "\n",
            "Regue a planta 4 \n",
            "\n",
            "Regue a planta 0 \n",
            "\n",
            "Regue a planta 2 \n",
            "\n",
            "Regue a planta 4 \n",
            "\n"
          ]
        }
      ]
    },
    {
      "cell_type": "markdown",
      "source": [
        "**MÓDULO**"
      ],
      "metadata": {
        "id": "EvfaWPo-MtmM"
      }
    },
    {
      "cell_type": "code",
      "source": [
        "resultado = 4 % 2 # MÓDULO = RESTO\n",
        "print(resultado)\n",
        "\n",
        "resultado = 17 % 2\n",
        "print (resultado)\n",
        "\n",
        "numeroTeste = 5\n",
        "if( numeroTeste %2 ==0):\n",
        "  print(\"O número é par.\")\n",
        "else:\n",
        "  print(\"O número é ímpar.\")"
      ],
      "metadata": {
        "id": "ZcH3Wv0qLOXB"
      },
      "execution_count": null,
      "outputs": []
    },
    {
      "cell_type": "markdown",
      "source": [
        "**FUNÇÕES**: um molde pra ser executado em várias partes do programa, para não ficar repetitivo"
      ],
      "metadata": {
        "id": "zsTgqa-9MSdL"
      }
    },
    {
      "cell_type": "code",
      "source": [
        "# Declarar uma função\n",
        "def multiplicar (a,b): #def: declaração de função | multiplicar: nome da função | a, b: parâmetros\n",
        "  multi =( a * b )\n",
        "  return multi # palavra para retornar o resultado da função\n",
        "# Executar uma função\n",
        "res = multiplicar (6, 9) # boa prática: salvar o resultado numa variável\n",
        "print(res)\n",
        "\n",
        "#1, 3\n",
        "#imprimir 1 x 3 =\n",
        "def escrever_multiplicacao(um,dois):\n",
        "  resultado = str(um) + \" x \" + str(dois) + \" = \" + str(um*dois)\n",
        "  return resultado\n",
        "\n",
        "frase = escrever_multiplicacao(1, 3)\n",
        "print(frase)"
      ],
      "metadata": {
        "colab": {
          "base_uri": "https://localhost:8080/"
        },
        "id": "qrAMIsJhNPs0",
        "outputId": "f11ade54-6564-454a-e5f5-76ec369634cb"
      },
      "execution_count": null,
      "outputs": [
        {
          "output_type": "stream",
          "name": "stdout",
          "text": [
            "54\n",
            "1 x 3 = 3\n"
          ]
        }
      ]
    },
    {
      "cell_type": "markdown",
      "source": [
        "Divisão"
      ],
      "metadata": {
        "id": "cgPGHAAeTMVJ"
      }
    },
    {
      "cell_type": "code",
      "source": [
        "def divisao (numA,numB):\n",
        "  resultado = str(numA) + \" / \" + str(numB) + \" = \" + str(numA/numB)\n",
        "  return resultado\n",
        "\n",
        "frase = divisao (1, 2)\n",
        "print(frase)"
      ],
      "metadata": {
        "colab": {
          "base_uri": "https://localhost:8080/"
        },
        "id": "ijO5xvn2T2_a",
        "outputId": "49df811b-3e98-4736-f459-60d965f4a56d"
      },
      "execution_count": null,
      "outputs": [
        {
          "output_type": "stream",
          "name": "stdout",
          "text": [
            "1 / 2 = 0.5\n"
          ]
        }
      ]
    },
    {
      "cell_type": "markdown",
      "source": [
        "**Prática extra**"
      ],
      "metadata": {
        "id": "WPmKuTqY8Ni4"
      }
    },
    {
      "cell_type": "markdown",
      "source": [
        "3. Regar apenas as batatas, que agora foram reorganizadas em 3, 4 e 5."
      ],
      "metadata": {
        "id": "ktdFXge-8RZt"
      }
    },
    {
      "cell_type": "code",
      "source": [
        "for batatas in range(3, 6, 1):\n",
        "  print(\"Regue a planta \", batatas)"
      ],
      "metadata": {
        "colab": {
          "base_uri": "https://localhost:8080/"
        },
        "id": "qQMeX8lX8Qe5",
        "outputId": "ac873315-70a9-4c3e-9d1b-0946e09a50f5"
      },
      "execution_count": 5,
      "outputs": [
        {
          "output_type": "stream",
          "name": "stdout",
          "text": [
            "Regue a planta  3\n",
            "Regue a planta  4\n",
            "Regue a planta  5\n"
          ]
        }
      ]
    },
    {
      "cell_type": "markdown",
      "source": [
        "4. Regar apenas os tomates, que foram reorganizados nos números 0, 1, 4 e 5."
      ],
      "metadata": {
        "id": "Ibmvir_q9D3O"
      }
    },
    {
      "cell_type": "code",
      "source": [
        "tomates = 0\n",
        "while (tomates <= 5):\n",
        "  if (tomates == 2) or (tomates == 3):\n",
        "    tomates += 1\n",
        "    continue\n",
        "  else:\n",
        "    print(\"Regue a planta\", tomates)\n",
        "    tomates += 1\n",
        "    continue"
      ],
      "metadata": {
        "colab": {
          "base_uri": "https://localhost:8080/"
        },
        "id": "pv730xpr9TL2",
        "outputId": "15fde8b3-e79d-43eb-eaad-a6b7f2e90cc5"
      },
      "execution_count": 10,
      "outputs": [
        {
          "output_type": "stream",
          "name": "stdout",
          "text": [
            "Regue a planta 0\n",
            "Regue a planta 1\n",
            "Regue a planta 4\n",
            "Regue a planta 5\n"
          ]
        }
      ]
    },
    {
      "cell_type": "markdown",
      "source": [
        "5. Fazer o robô regar as plantas de trás para frente."
      ],
      "metadata": {
        "id": "Et12mIrK-RIf"
      }
    },
    {
      "cell_type": "code",
      "source": [
        "for plantas in range(5,-1,-1):\n",
        "  print(\"Regue a planta\", plantas)"
      ],
      "metadata": {
        "colab": {
          "base_uri": "https://localhost:8080/"
        },
        "id": "wNMZv_rH-WbX",
        "outputId": "4264e13e-fcc8-46b7-c49a-c25b9226371c"
      },
      "execution_count": 14,
      "outputs": [
        {
          "output_type": "stream",
          "name": "stdout",
          "text": [
            "Regue a planta 5\n",
            "Regue a planta 4\n",
            "Regue a planta 3\n",
            "Regue a planta 2\n",
            "Regue a planta 1\n",
            "Regue a planta 0\n"
          ]
        }
      ]
    },
    {
      "cell_type": "markdown",
      "source": [
        "Calculadora de Tabuada"
      ],
      "metadata": {
        "id": "3RxarUPT_jId"
      }
    },
    {
      "cell_type": "code",
      "source": [
        "def calculadoraTabuada(numUsuario,fator):\n",
        "  tabuada = str(numUsuario) + \" x \" + str(fator) + \" = \" + str(numUsuario*fator)\n",
        "  return tabuada\n",
        "\n",
        "print(\"Olá! Digite um número e, na sequência, observe surgir sua tabuada: \")\n",
        "numUsuario=int(input())\n",
        "print(\"------Tabuada do\", numUsuario, \"------\")\n",
        "fator=1\n",
        "while (fator < 11):\n",
        "  resultado = calculadoraTabuada(numUsuario,fator)\n",
        "  print(resultado)\n",
        "  fator += 1"
      ],
      "metadata": {
        "colab": {
          "base_uri": "https://localhost:8080/"
        },
        "id": "B_N28ebV_lHz",
        "outputId": "5cdfe61f-2881-4aeb-bddb-a15269bc636a"
      },
      "execution_count": 30,
      "outputs": [
        {
          "output_type": "stream",
          "name": "stdout",
          "text": [
            "Olá! Digite um número e, na sequência, observe surgir sua tabuada: \n",
            "8\n",
            "------Tabuada do 8 ------\n",
            "8 x 1 = 8\n",
            "8 x 2 = 16\n",
            "8 x 3 = 24\n",
            "8 x 4 = 32\n",
            "8 x 5 = 40\n",
            "8 x 6 = 48\n",
            "8 x 7 = 56\n",
            "8 x 8 = 64\n",
            "8 x 9 = 72\n",
            "8 x 10 = 80\n"
          ]
        }
      ]
    }
  ]
}