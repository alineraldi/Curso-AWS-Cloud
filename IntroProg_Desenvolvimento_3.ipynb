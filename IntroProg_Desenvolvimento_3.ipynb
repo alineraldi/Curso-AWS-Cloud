{
  "nbformat": 4,
  "nbformat_minor": 0,
  "metadata": {
    "colab": {
      "provenance": []
    },
    "kernelspec": {
      "name": "python3",
      "display_name": "Python 3"
    },
    "language_info": {
      "name": "python"
    }
  },
  "cells": [
    {
      "cell_type": "code",
      "source": [
        "# Precisamos imprimir um número para cada andar de um hotel de 20 andares. Porém, o dono do hotel é supersticioso e optou por não ter um 13ro andar.\n",
        "# Escreva um código que imprima todos os números exceto o número 13.\n",
        "print(\"Olá! Segue abaixo a lista de todos os andares do Hotel Hipotético. \\n Sinta-se à vontade para entrar em contato e fazer uma reserva.\")\n",
        "for andar in range(1, 21):\n",
        "  if andar != 13:\n",
        "    print(andar, \"º andar\")\n",
        "\n",
        "# Escreva mais um código que resolva o mesmo problema, mas dessa vez usando o laço de repetição 'while'.\n",
        "# Como desafio, imprima eles em ordem decrescente (20, 19, 18...)\n",
        "print(\"Também temos a opção de visualização decrescente dos nossos andares aqui no Hotel. \\n Olha só que interessante:\")\n",
        "andar = 20\n",
        "while (andar > 13):\n",
        "  print(andar, \"º andar\")\n",
        "  andar = andar - 1\n",
        "andar = 12\n",
        "while (andar > 0):\n",
        "  print(andar, \"º andar\")\n",
        "  andar = andar - 1"
      ],
      "metadata": {
        "colab": {
          "base_uri": "https://localhost:8080/"
        },
        "id": "k5OpQ3hpvE30",
        "outputId": "5dd1bbae-0dff-4238-f56b-a77f55cffa5f"
      },
      "execution_count": 69,
      "outputs": [
        {
          "output_type": "stream",
          "name": "stdout",
          "text": [
            "Olá! Segue abaixo a lista de todos os andares do Hotel Hipotético. \n",
            " Sinta-se à vontade para entrar em contato e fazer uma reserva.\n",
            "1 º andar\n",
            "2 º andar\n",
            "3 º andar\n",
            "4 º andar\n",
            "5 º andar\n",
            "6 º andar\n",
            "7 º andar\n",
            "8 º andar\n",
            "9 º andar\n",
            "10 º andar\n",
            "11 º andar\n",
            "12 º andar\n",
            "14 º andar\n",
            "15 º andar\n",
            "16 º andar\n",
            "17 º andar\n",
            "18 º andar\n",
            "19 º andar\n",
            "20 º andar\n",
            "Também temos a opção de visualização decrescente dos nossos andares aqui no Hotel. \n",
            " Olha só que interessante:\n",
            "20 º andar\n",
            "19 º andar\n",
            "18 º andar\n",
            "17 º andar\n",
            "16 º andar\n",
            "15 º andar\n",
            "14 º andar\n",
            "12 º andar\n",
            "11 º andar\n",
            "10 º andar\n",
            "9 º andar\n",
            "8 º andar\n",
            "7 º andar\n",
            "6 º andar\n",
            "5 º andar\n",
            "4 º andar\n",
            "3 º andar\n",
            "2 º andar\n",
            "1 º andar\n"
          ]
        }
      ]
    }
  ]
}